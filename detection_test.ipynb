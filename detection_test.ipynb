{
 "cells": [
  {
   "cell_type": "markdown",
   "source": [
    "Testing Playground :)"
   ],
   "metadata": {
    "collapsed": false
   }
  },
  {
   "cell_type": "code",
   "execution_count": 11,
   "outputs": [
    {
     "name": "stdout",
     "output_type": "stream",
     "text": [
      "Collecting onnx==1.12.0\n",
      "  Downloading onnx-1.12.0-cp310-cp310-win_amd64.whl (11.5 MB)\n",
      "     --------------------------------------- 11.5/11.5 MB 10.7 MB/s eta 0:00:00\n",
      "Requirement already satisfied: numpy>=1.16.6 in d:\\projects\\object-detection\\venv\\lib\\site-packages (from onnx==1.12.0) (1.23.4)\n",
      "Collecting protobuf<=3.20.1,>=3.12.2\n",
      "  Downloading protobuf-3.20.1-cp310-cp310-win_amd64.whl (903 kB)\n",
      "     -------------------------------------- 903.8/903.8 kB 9.5 MB/s eta 0:00:00\n",
      "Requirement already satisfied: typing-extensions>=3.6.2.1 in d:\\programs\\python\\python310\\lib\\site-packages (from onnx==1.12.0) (4.5.0)\n",
      "Installing collected packages: protobuf, onnx\n",
      "  Attempting uninstall: protobuf\n",
      "    Found existing installation: protobuf 3.20.3\n",
      "    Uninstalling protobuf-3.20.3:\n",
      "      Successfully uninstalled protobuf-3.20.3\n",
      "  Attempting uninstall: onnx\n",
      "    Found existing installation: onnx 1.13.1\n",
      "    Uninstalling onnx-1.13.1:\n",
      "      Successfully uninstalled onnx-1.13.1\n",
      "Successfully installed onnx-1.12.0 protobuf-3.20.1\n",
      "Note: you may need to restart the kernel to use updated packages.\n"
     ]
    },
    {
     "name": "stderr",
     "output_type": "stream",
     "text": [
      "ERROR: pip's dependency resolver does not currently take into account all the packages that are installed. This behaviour is the source of the following dependency conflicts.\n",
      "tensorflow-intel 2.12.0 requires protobuf!=4.21.0,!=4.21.1,!=4.21.2,!=4.21.3,!=4.21.4,!=4.21.5,<5.0.0dev,>=3.20.3, but you have protobuf 3.20.1 which is incompatible.\n",
      "googleapis-common-protos 1.59.0 requires protobuf!=3.20.0,!=3.20.1,!=4.21.1,!=4.21.2,!=4.21.3,!=4.21.4,!=4.21.5,<5.0.0dev,>=3.19.5, but you have protobuf 3.20.1 which is incompatible.\n",
      "google-api-core 2.11.0 requires protobuf!=3.20.0,!=3.20.1,!=4.21.0,!=4.21.1,!=4.21.2,!=4.21.3,!=4.21.4,!=4.21.5,<5.0.0dev,>=3.19.5, but you have protobuf 3.20.1 which is incompatible.\n",
      "\n",
      "[notice] A new release of pip available: 22.3.1 -> 23.1.1\n",
      "[notice] To update, run: python.exe -m pip install --upgrade pip\n"
     ]
    },
    {
     "name": "stdout",
     "output_type": "stream",
     "text": [
      "Requirement already satisfied: onnx==1.12.0 in d:\\projects\\object-detection\\venv\\lib\\site-packages (1.12.0)\n",
      "Requirement already satisfied: typing-extensions>=3.6.2.1 in d:\\programs\\python\\python310\\lib\\site-packages (from onnx==1.12.0) (4.5.0)\n",
      "Requirement already satisfied: numpy>=1.16.6 in d:\\projects\\object-detection\\venv\\lib\\site-packages (from onnx==1.12.0) (1.23.4)\n",
      "Requirement already satisfied: protobuf<=3.20.1,>=3.12.2 in d:\\projects\\object-detection\\venv\\lib\\site-packages (from onnx==1.12.0) (3.20.1)\n",
      "Note: you may need to restart the kernel to use updated packages.\n"
     ]
    },
    {
     "name": "stderr",
     "output_type": "stream",
     "text": [
      "\n",
      "[notice] A new release of pip available: 22.3.1 -> 23.1.1\n",
      "[notice] To update, run: python.exe -m pip install --upgrade pip\n"
     ]
    }
   ],
   "source": [
    "# %pip install onnx==1.12.0"
   ],
   "metadata": {
    "collapsed": false,
    "ExecuteTime": {
     "start_time": "2023-04-23T19:55:19.208208Z",
     "end_time": "2023-04-23T19:55:19.210213Z"
    }
   }
  },
  {
   "cell_type": "code",
   "execution_count": 86,
   "metadata": {
    "collapsed": true,
    "ExecuteTime": {
     "start_time": "2023-04-23T23:49:03.544718Z",
     "end_time": "2023-04-23T23:49:03.551229Z"
    }
   },
   "outputs": [],
   "source": [
    "import cv2\n",
    "import torch\n",
    "import numpy as np\n",
    "import yaml\n",
    "import os"
   ]
  },
  {
   "cell_type": "code",
   "execution_count": 87,
   "outputs": [
    {
     "name": "stdout",
     "output_type": "stream",
     "text": [
      "Weight x Height FPS:  1920 x 1080 29.97002997002997\n"
     ]
    }
   ],
   "source": [
    "opencv_net = cv2.dnn.readNet('yolov5/models/yolov5s.onnx')\n",
    "imput_vid = cv2.VideoCapture('input/1.mp4')\n",
    "filename = 'input/1.mp4'\n",
    "\n",
    "classes = []\n",
    "\n",
    "with open('yolov5/data/coco.yaml', 'r') as file:\n",
    "        dict = yaml.load(file, Loader=yaml.FullLoader)\n",
    "        arr = list(dict['names'].items())\n",
    "        for key in range(len(arr)):\n",
    "                classes.append(arr[key][1]) # coco 80 classes name\n",
    "\n",
    "if (imput_vid.isOpened() == True):\n",
    "        width = int(imput_vid.get(3))\n",
    "        height = int(imput_vid.get(4))\n",
    "        fps = imput_vid.get(5)\n",
    "        print('Weight x Height FPS: ', width, 'x' ,height, fps)\n",
    "\n",
    "        fourcc = cv2.VideoWriter_fourcc('F', 'M', 'P', '4')\n",
    "        video = cv2.VideoWriter(os.path.basename(filename).split(\".\")[-1] + '_output.avi', fourcc, fps, (width,height))\n",
    "else:\n",
    "        print('Can''t load the file, try another one :(')\n",
    "\n"
   ],
   "metadata": {
    "collapsed": false,
    "ExecuteTime": {
     "start_time": "2023-04-23T23:49:05.066886Z",
     "end_time": "2023-04-23T23:49:05.163420Z"
    }
   }
  },
  {
   "cell_type": "code",
   "execution_count": 88,
   "outputs": [],
   "source": [
    "def preprocess(input, net):\n",
    "        blob = cv2.dnn.blobFromImage(input, 1/255, (640, 640), (0, 0, 0), True, crop=False)\n",
    "        net.setInput(blob)\n",
    "        output = net.forward(net.getUnconnectedOutLayersNames())\n",
    "\n",
    "        return output"
   ],
   "metadata": {
    "collapsed": false,
    "ExecuteTime": {
     "start_time": "2023-04-23T23:49:06.449014Z",
     "end_time": "2023-04-23T23:49:06.469776Z"
    }
   }
  },
  {
   "cell_type": "markdown",
   "source": [],
   "metadata": {
    "collapsed": false
   }
  },
  {
   "cell_type": "code",
   "execution_count": 89,
   "outputs": [],
   "source": [
    "def postprocess(input, outputs):\n",
    "        class_ids = []\n",
    "        confidences = []\n",
    "        boxes = []\n",
    "\n",
    "        for rows in outputs:\n",
    "                for detections in rows:\n",
    "                        scores = detections[5:]\n",
    "                        class_id = np.argmax(scores)\n",
    "                        confidence = scores[class_id]\n",
    "                        if confidence > 0.5:\n",
    "                            center_x = int(detections[0] * width)\n",
    "                            center_y = int(detections[1] * height)\n",
    "                            w = int(detections[2] * width)\n",
    "                            h = int(detections[3] * height)\n",
    "\n",
    "                            x = int(center_x - w / 2)\n",
    "                            y = int(center_y - h / 2)\n",
    "\n",
    "                            boxes.append([x, y, w, h])\n",
    "                            confidences.append(float(confidence))\n",
    "                            class_ids.append(class_id)\n",
    "\n",
    "        indexes = cv2.dnn.NMSBoxes(boxes, confidences, 0.5, 0.4) # (boxes, class scores, score threshold, nms threshold)\n",
    "        for i in range(len(boxes)):\n",
    "            if i in indexes:\n",
    "                x, y, w, h = boxes[i]\n",
    "                cv2.rectangle(input, (x, y), (x + w, y + h), (0,0,0), 3)\n",
    "\n",
    "        return input"
   ],
   "metadata": {
    "collapsed": false,
    "ExecuteTime": {
     "start_time": "2023-04-23T23:49:08.142692Z",
     "end_time": "2023-04-23T23:49:08.156294Z"
    }
   }
  },
  {
   "cell_type": "code",
   "execution_count": 90,
   "outputs": [],
   "source": [
    "flg, frames = imput_vid.read()"
   ],
   "metadata": {
    "collapsed": false,
    "ExecuteTime": {
     "start_time": "2023-04-23T23:49:51.324172Z",
     "end_time": "2023-04-23T23:49:51.367718Z"
    }
   }
  },
  {
   "cell_type": "code",
   "execution_count": 77,
   "outputs": [],
   "source": [
    "# detections = preprocess(imput_vid, opencv_net)"
   ],
   "metadata": {
    "collapsed": false,
    "ExecuteTime": {
     "start_time": "2023-04-23T21:38:52.643425Z",
     "end_time": "2023-04-23T21:38:52.656421Z"
    }
   }
  },
  {
   "cell_type": "code",
   "execution_count": null,
   "outputs": [],
   "source": [],
   "metadata": {
    "collapsed": false
   }
  },
  {
   "cell_type": "markdown",
   "source": [],
   "metadata": {
    "collapsed": false
   }
  }
 ],
 "metadata": {
  "kernelspec": {
   "display_name": "Python 3",
   "language": "python",
   "name": "python3"
  },
  "language_info": {
   "codemirror_mode": {
    "name": "ipython",
    "version": 2
   },
   "file_extension": ".py",
   "mimetype": "text/x-python",
   "name": "python",
   "nbconvert_exporter": "python",
   "pygments_lexer": "ipython2",
   "version": "2.7.6"
  }
 },
 "nbformat": 4,
 "nbformat_minor": 0
}
