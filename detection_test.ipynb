{
 "cells": [
  {
   "cell_type": "markdown",
   "metadata": {
    "collapsed": false
   },
   "source": [
    "Testing Playground :)"
   ]
  },
  {
   "cell_type": "code",
   "execution_count": 195,
   "metadata": {
    "ExecuteTime": {
     "end_time": "2023-04-24T00:50:34.959002Z",
     "start_time": "2023-04-24T00:50:34.916242Z"
    },
    "collapsed": false
   },
   "outputs": [],
   "source": [
    "# %pip install onnx==1.12.0"
   ]
  },
  {
   "cell_type": "code",
   "execution_count": 196,
   "metadata": {
    "ExecuteTime": {
     "end_time": "2023-04-24T00:50:34.974489Z",
     "start_time": "2023-04-24T00:50:34.933163Z"
    },
    "collapsed": true
   },
   "outputs": [],
   "source": [
    "import cv2\n",
    "import torch\n",
    "import numpy as np\n",
    "import yaml\n",
    "import os"
   ]
  },
  {
   "cell_type": "code",
   "execution_count": 205,
   "metadata": {
    "ExecuteTime": {
     "end_time": "2023-04-24T00:50:35.056129Z",
     "start_time": "2023-04-24T00:50:34.949418Z"
    },
    "collapsed": false
   },
   "outputs": [
    {
     "name": "stdout",
     "output_type": "stream",
     "text": [
      "Weight x Height FPS:  1920 x 1080 29.97002997002997\n"
     ]
    }
   ],
   "source": [
    "opencv_net = cv2.dnn.readNet('yolov5/models/yolov5s.onnx')\n",
    "imput_vid = cv2.VideoCapture('input/1.mp4')\n",
    "filename = 'input/1.mp4'\n",
    "\n",
    "classes = []\n",
    "\n",
    "with open('yolov5/data/coco.yaml', 'r') as file:\n",
    "        dict = yaml.load(file, Loader=yaml.FullLoader)\n",
    "        arr = list(dict['names'].items())\n",
    "        for key in range(len(arr)):\n",
    "                classes.append(arr[key][1]) # coco 80 classes name\n",
    "\n",
    "if (imput_vid.isOpened() == True):\n",
    "        width = int(imput_vid.get(3))\n",
    "        height = int(imput_vid.get(4))\n",
    "        fps = imput_vid.get(5)\n",
    "        print('Weight x Height FPS: ', width, 'x' ,height, fps)\n",
    "\n",
    "        fourcc = cv2.VideoWriter_fourcc(*'MJPG')\n",
    "        video = cv2.VideoWriter('output.avi', fourcc, fps, (width,height))\n",
    "else:\n",
    "        print('Can''t load the file, try another one :(')\n",
    "\n",
    "\n",
    "# os.path.basename(filename).split(\".\")[0]\n"
   ]
  },
  {
   "cell_type": "code",
   "execution_count": 206,
   "metadata": {
    "ExecuteTime": {
     "end_time": "2023-04-24T00:50:35.099518Z",
     "start_time": "2023-04-24T00:50:35.056641Z"
    },
    "collapsed": false
   },
   "outputs": [],
   "source": [
    "def preprocess(input, net):\n",
    "        blob = cv2.dnn.blobFromImage(input, 1/255, (640, 640), [0, 0, 0], True, crop=False)\n",
    "        net.setInput(blob)\n",
    "        output = net.forward(net.getUnconnectedOutLayersNames())\n",
    "\n",
    "        # print('Preprocess done')\n",
    "        return output"
   ]
  },
  {
   "cell_type": "code",
   "execution_count": 207,
   "metadata": {
    "ExecuteTime": {
     "end_time": "2023-04-24T00:52:33.943999Z",
     "start_time": "2023-04-24T00:52:33.878414Z"
    },
    "collapsed": false
   },
   "outputs": [],
   "source": [
    "def postprocess(input, outputs):\n",
    "        class_ids = []\n",
    "        confidences = []\n",
    "        boxes = []\n",
    "        \n",
    "        rows = outputs[0].shape[1]\n",
    "\n",
    "        for r in range(rows):\n",
    "                detections = outputs[0][0][r]\n",
    "                confidence = detections[4]\n",
    "                if confidence > 0.5:\n",
    "                        scores = detections[5:]\n",
    "                        class_id = np.argmax(scores)\n",
    "                        center_x = int(detections[0] * width)\n",
    "                        center_y = int(detections[1] * height)\n",
    "                        w = int(detections[2] * width)\n",
    "                        h = int(detections[3] * height)\n",
    "\n",
    "                        x = int(center_x - w / 2)\n",
    "                        y = int(center_y - h / 2)\n",
    "\n",
    "                        boxes.append([x, y, w, h])\n",
    "                        confidences.append(float(confidence))\n",
    "                        class_ids.append(class_id)\n",
    "\n",
    "        indexes = cv2.dnn.NMSBoxes(boxes, confidences, 0.5, 0.4) # (boxes, class scores, score threshold, nms threshold)\n",
    "        for i in range(len(boxes)):\n",
    "            if i in indexes:\n",
    "                x, y, w, h = boxes[i]\n",
    "                label = str(classes[class_ids[i]])\n",
    "                cv2.rectangle(input, (x, y), (x + w, y + h), (0,0,0), 3)\n",
    "                cv2.putText(input, label, (x, y + 10), cv2.FONT_HERSHEY_PLAIN, 8, [0,0,0], 8)\n",
    "\n",
    "        # print('Postprocess done')\n",
    "        return input"
   ]
  },
  {
   "cell_type": "code",
   "execution_count": 200,
   "metadata": {
    "ExecuteTime": {
     "end_time": "2023-04-24T00:52:46.786060Z",
     "start_time": "2023-04-24T00:51:43.748543Z"
    },
    "collapsed": false
   },
   "outputs": [],
   "source": [
    "while(imput_vid.isOpened()):\n",
    "    flg, frames = imput_vid.read()\n",
    "    if flg==True:\n",
    "        input_blob = preprocess(frames, opencv_net)\n",
    "        output = postprocess(frames, input_blob)\n",
    "        video.write(output)\n",
    "    else:\n",
    "        break"
   ]
  },
  {
   "cell_type": "code",
   "execution_count": 201,
   "metadata": {
    "collapsed": false
   },
   "outputs": [],
   "source": [
    "imput_vid.release()\n",
    "video.release()\n",
    "cv2.destroyAllWindows()"
   ]
  },
  {
   "cell_type": "code",
   "execution_count": null,
   "metadata": {
    "collapsed": false
   },
   "outputs": [],
   "source": []
  },
  {
   "cell_type": "markdown",
   "metadata": {
    "collapsed": false
   },
   "source": []
  }
 ],
 "metadata": {
  "kernelspec": {
   "display_name": "Python 3",
   "language": "python",
   "name": "python3"
  },
  "language_info": {
   "codemirror_mode": {
    "name": "ipython",
    "version": 3
   },
   "file_extension": ".py",
   "mimetype": "text/x-python",
   "name": "python",
   "nbconvert_exporter": "python",
   "pygments_lexer": "ipython3",
   "version": "3.10.6"
  }
 },
 "nbformat": 4,
 "nbformat_minor": 0
}
